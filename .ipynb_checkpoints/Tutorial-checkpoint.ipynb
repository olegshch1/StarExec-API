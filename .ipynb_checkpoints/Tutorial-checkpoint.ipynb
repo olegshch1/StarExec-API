{
 "cells": [
  {
   "cell_type": "markdown",
   "metadata": {},
   "source": [
    "<a class=\"anchor\" id=\"0\"></a>\n",
    "\n",
    "# Web_manager library tutorial for beginners\n",
    "\n",
    "\n",
    "This is an instruction for using *web_manager* library which provides web API for StarExec platform. "
   ]
  },
  {
   "cell_type": "markdown",
   "metadata": {},
   "source": [
    "## 1. Introduction\n",
    "\n",
    "\n",
    "This library was made for having access to the platform without web browser so user could upload, download and modify different files and processes directly from his IDE. \n",
    "\n",
    "\n",
    "Please notice that this is not the final version of the library and there are only few methods available. Also stability is not guaranteed."
   ]
  },
  {
   "cell_type": "markdown",
   "metadata": {},
   "source": [
    "## 2. Starting with web_manager\n",
    "\n",
    "In case you need to download any external packages before using *web_manager* you can use **requirements.txt** file. \n",
    "\n",
    "Inside the library there is one class called **WebManger** which provides all available functionality. First of all we need to import it. We can import this class as follows:-\n",
    "\n",
    "`from web_manager import WebManager`\n",
    "\n",
    "\n",
    "Now we can create a new instance of this class:\n",
    "\n",
    "\n",
    "`wm=WebManager()`\n",
    "\n"
   ]
  },
  {
   "cell_type": "markdown",
   "metadata": {},
   "source": [
    "The final step is logging in with user's login and password. For this purpose our class provides a simple *login* method with two arguments. You can use it like this:\n",
    "\n",
    "`wm.login('username', 'password')`\n",
    "\n",
    "where 'username' and 'password' are your login and password in string format."
   ]
  },
  {
   "cell_type": "markdown",
   "metadata": {},
   "source": [
    "Now you logged in and the session was created inside this class instance. All further steps you should do with this instance."
   ]
  },
  {
   "cell_type": "markdown",
   "metadata": {},
   "source": [
    "## 3. Creating a new job\n",
    "\n",
    "Here is an example for creating a new job. We will use IDs of benchmarks, solvers and spaces.\n",
    "\n",
    "<font color=\"red\"> **Warning: all IDs are provided by platform and must be known by user before using them.**</font> Solution of this problem still in progress.\n",
    "\n",
    "`wm.create_job(sid=529340, name='tutorial_test_name', desc='tutorial_desc', traversal='depth', solver_id=41487, bench_list={15347006, 15347047, 15346923})`\n",
    "\n",
    "Some information about parameters: \n",
    "1. *sid* is an ID of space where our new job will be (in example it is my personal space and you can choose any of your personal spaces or subspaces)\n",
    "2. *name* and *desc* are job's name and descripton\n",
    "3. *traversal* is a method of testing\n",
    "4. *solver_id* is an ID of chosen solver\n",
    "5. *bench_list* is a list formed with benchmarks' IDs"
   ]
  },
  {
   "attachments": {
    "%D0%B8%D0%B7%D0%BE%D0%B1%D1%80%D0%B0%D0%B6%D0%B5%D0%BD%D0%B8%D0%B5.png": {
     "image/png": "[encoded data removed]"
    }
   },
   "cell_type": "markdown",
   "metadata": {},
   "source": [
    "This method returns ID of this job. And here you can see how it looks like on platform:\n",
    "\n",
    "![%D0%B8%D0%B7%D0%BE%D0%B1%D1%80%D0%B0%D0%B6%D0%B5%D0%BD%D0%B8%D0%B5.png](attachment:%D0%B8%D0%B7%D0%BE%D0%B1%D1%80%D0%B0%D0%B6%D0%B5%D0%BD%D0%B8%D0%B5.png)"
   ]
  },
  {
   "cell_type": "markdown",
   "metadata": {},
   "source": [
    "## 4. Download job results\n",
    "\n",
    "If you want to check the job output you can simply run method *download_job_output(id)* where *id* is an ID of your job.\n",
    "This method starts downloading an archive with output results in \"download_folder\".\n",
    "\n",
    "**Please, notice that you will not be able to download an output archive if job is still running!***"
   ]
  },
  {
   "cell_type": "code",
   "execution_count": null,
   "metadata": {},
   "outputs": [],
   "source": []
  }
 ],
 "metadata": {
  "kernelspec": {
   "display_name": "Python 3",
   "language": "python",
   "name": "python3"
  },
  "language_info": {
   "codemirror_mode": {
    "name": "ipython",
    "version": 3
   },
   "file_extension": ".py",
   "mimetype": "text/x-python",
   "name": "python",
   "nbconvert_exporter": "python",
   "pygments_lexer": "ipython3",
   "version": "3.7.6"
  }
 },
 "nbformat": 4,
 "nbformat_minor": 4
}
